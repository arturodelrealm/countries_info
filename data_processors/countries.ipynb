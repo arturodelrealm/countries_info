{
 "cells": [
  {
   "cell_type": "code",
   "execution_count": 1,
   "metadata": {
    "collapsed": false,
    "jupyter": {
     "outputs_hidden": false
    },
    "pycharm": {
     "is_executing": true,
     "name": "#%%\n"
    }
   },
   "outputs": [],
   "source": [
    "import pandas as pd\n",
    "import json"
   ]
  },
  {
   "cell_type": "code",
   "execution_count": 2,
   "metadata": {
    "collapsed": false,
    "jupyter": {
     "outputs_hidden": false
    },
    "pycharm": {
     "name": "#%%\n"
    }
   },
   "outputs": [],
   "source": [
    "GEO_DATA_PATH = '../data/countries-codes.csv'\n",
    "POPULATION_PATH = '../data/world_population.csv'\n",
    "INFANT_MORTALITY_PATH = '../data/infant_mortality.csv'\n",
    "LIFE_EXPECTANCY_PATH = '../data/life_expectancy.csv'\n",
    "FLAGS_PATH = '../data/flags_iso2.csv'\n",
    "\n",
    "OUTPUT_DATA_PATH = '../data/consolidated/countries_dataset.csv'"
   ]
  },
  {
   "cell_type": "code",
   "execution_count": 3,
   "metadata": {
    "collapsed": false,
    "jupyter": {
     "outputs_hidden": false
    },
    "pycharm": {
     "name": "#%%\n"
    }
   },
   "outputs": [],
   "source": [
    "USEFUL_GEO_DATA = {\n",
    "    'Geo Shape': {'new_name': 'geo_points'},\n",
    "    'LABEL SP': {'new_name': 'name_es'},\n",
    "    'LABEL EN': {'new_name': 'name_en'},\n",
    "}\n",
    "GEO_DATA_COUNTRY_CODE = 'ISO3 CODE'\n",
    "USEFUL_POPULATION_DATA = {\n",
    "    '2022 Population': {'new_name': 'population'},\n",
    "    'Area (km²)': {'new_name': 'area'},\n",
    "    'Capital': {'new_name': 'capital'},\n",
    "    'Continent': {'new_name': 'continent'},\n",
    "}\n",
    "POPULATION_DATA_COUNTRY_CODE = 'CCA3'\n",
    "USEFUL_INFANT_MORTALITY_DATA = {\n",
    "    '2022': {'new_name': 'infant_mortality'},\n",
    "}\n",
    "INFANT_MORTALITY_COUNTRY_CODE = 'Country Code'\n",
    "USEFUL_LIFE_EXPECTANCY_DATA = {\n",
    "    '2022': {'new_name': 'life_expectancy'},\n",
    "}\n",
    "LIFE_EXPECTANCY_COUNTRY_CODE = 'Country Code'\n",
    "USEFUL_FLAGS_DATA = {\n",
    "    'URL': {'new_name': 'flag_url'},\n",
    "}\n",
    "FLAGS_COUNTRY_CODE = 'Alpha-3 code'"
   ]
  },
  {
   "cell_type": "code",
   "execution_count": 4,
   "metadata": {
    "collapsed": false,
    "jupyter": {
     "outputs_hidden": false
    },
    "pycharm": {
     "name": "#%%\n"
    }
   },
   "outputs": [],
   "source": [
    "def get_dataset(path, useful_data, code, sep=','):\n",
    "    data = pd.read_csv(path, sep=sep)\n",
    "    columns = [code, *useful_data]\n",
    "    data = data[columns].rename(columns=lambda x: 'code' if x == code else useful_data.get(x, {}).get('new_name', x))\n",
    "    data['code'] = data.code.apply(lambda x: x.upper())\n",
    "    return data"
   ]
  },
  {
   "cell_type": "code",
   "execution_count": 5,
   "metadata": {
    "collapsed": false,
    "jupyter": {
     "outputs_hidden": false
    },
    "pycharm": {
     "name": "#%%\n"
    }
   },
   "outputs": [],
   "source": [
    "def process_geo_points(geo_points):\n",
    "    \"\"\"Iterate through all the cooridnate groups to get all geo points of \n",
    "    the coordinates in one simple list\"\"\"\n",
    "    try:\n",
    "        geo_points = json.loads(geo_points)\n",
    "        coordinates = geo_points['coordinates']\n",
    "        geo_type = geo_points['type']\n",
    "    except TypeError:\n",
    "        return None\n",
    "    all_positions = set()\n",
    "    if geo_type == 'MultiPolygon':\n",
    "        for group in coordinates:\n",
    "            for sub_group in group:\n",
    "                for ubi in sub_group:\n",
    "                    all_positions.add(tuple(ubi))\n",
    "    else:\n",
    "        for group in coordinates:\n",
    "            for ubi in group:\n",
    "                all_positions.add(tuple(ubi))\n",
    "    return json.dumps(sorted(all_positions))"
   ]
  },
  {
   "cell_type": "code",
   "execution_count": 6,
   "metadata": {
    "collapsed": false,
    "jupyter": {
     "outputs_hidden": false
    },
    "pycharm": {
     "name": "#%%\n"
    }
   },
   "outputs": [],
   "source": [
    "population_data = get_dataset(POPULATION_PATH, USEFUL_POPULATION_DATA, POPULATION_DATA_COUNTRY_CODE)\n",
    "geo_data = get_dataset(GEO_DATA_PATH, USEFUL_GEO_DATA, GEO_DATA_COUNTRY_CODE, ';')\n",
    "infant_mortality_data = get_dataset(INFANT_MORTALITY_PATH, USEFUL_INFANT_MORTALITY_DATA, INFANT_MORTALITY_COUNTRY_CODE)\n",
    "life_expectancy_data = get_dataset(LIFE_EXPECTANCY_PATH, USEFUL_LIFE_EXPECTANCY_DATA, LIFE_EXPECTANCY_COUNTRY_CODE)\n",
    "flags_data = get_dataset(FLAGS_PATH, USEFUL_FLAGS_DATA, FLAGS_COUNTRY_CODE)\n",
    "\n",
    "final_dataset = population_data.merge(\n",
    "    geo_data, how='inner', on='code'\n",
    ").merge(\n",
    "    infant_mortality_data, how='left', on='code'\n",
    ").merge(\n",
    "    life_expectancy_data, how='left', on='code'\n",
    ").merge(\n",
    "    flags_data, how='left', on='code'\n",
    ")"
   ]
  },
  {
   "cell_type": "code",
   "execution_count": 7,
   "metadata": {
    "collapsed": false,
    "jupyter": {
     "outputs_hidden": false
    },
    "pycharm": {
     "name": "#%%\n"
    }
   },
   "outputs": [],
   "source": [
    "final_dataset['geo_points'] = final_dataset.geo_points.apply(process_geo_points)"
   ]
  },
  {
   "cell_type": "code",
   "execution_count": 8,
   "metadata": {
    "collapsed": false,
    "jupyter": {
     "outputs_hidden": false
    },
    "pycharm": {
     "name": "#%%\n"
    }
   },
   "outputs": [],
   "source": [
    "final_dataset.to_csv(OUTPUT_DATA_PATH, sep=';', index=False)"
   ]
  },
  {
   "cell_type": "code",
   "execution_count": null,
   "metadata": {},
   "outputs": [],
   "source": []
  },
  {
   "cell_type": "code",
   "execution_count": null,
   "metadata": {},
   "outputs": [],
   "source": []
  }
 ],
 "metadata": {
  "kernelspec": {
   "display_name": "Python 3 (ipykernel)",
   "language": "python",
   "name": "python3"
  },
  "language_info": {
   "codemirror_mode": {
    "name": "ipython",
    "version": 3
   },
   "file_extension": ".py",
   "mimetype": "text/x-python",
   "name": "python",
   "nbconvert_exporter": "python",
   "pygments_lexer": "ipython3",
   "version": "3.11.3"
  }
 },
 "nbformat": 4,
 "nbformat_minor": 4
}
